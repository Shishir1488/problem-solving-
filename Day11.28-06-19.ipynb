{
 "cells": [
  {
   "cell_type": "code",
   "execution_count": 2,
   "metadata": {},
   "outputs": [
    {
     "name": "stdout",
     "output_type": "stream",
     "text": [
      "test()for function\n"
     ]
    }
   ],
   "source": [
    "def test():\n",
    "    print('test()for function')\n",
    "    return\n",
    "test()"
   ]
  },
  {
   "cell_type": "code",
   "execution_count": 4,
   "metadata": {},
   "outputs": [
    {
     "data": {
      "text/plain": [
       "<bound method Demo.test of <__main__.Demo object at 0x03CC9D70>>"
      ]
     },
     "execution_count": 4,
     "metadata": {},
     "output_type": "execute_result"
    }
   ],
   "source": [
    "class Demo:\n",
    "    def test(self):\n",
    "        print(\"test()for the class and  method\")\n",
    "        return\n",
    "    \n",
    "obj=Demo()\n",
    "obj.test\n",
    "    "
   ]
  },
  {
   "cell_type": "code",
   "execution_count": 6,
   "metadata": {},
   "outputs": [],
   "source": [
    "class Demo1:\n",
    "    def fact(self,n):\n",
    "        #return the factorial\n",
    "        return\n",
    "    \n",
    "p1=Demo1()\n",
    "p1.fact(5)"
   ]
  },
  {
   "cell_type": "code",
   "execution_count": 9,
   "metadata": {},
   "outputs": [
    {
     "name": "stdout",
     "output_type": "stream",
     "text": [
      "120\n"
     ]
    }
   ],
   "source": [
    "class Demo1:\n",
    "    def fact(self,n):\n",
    "        #return the factorial\n",
    "        fact=1\n",
    "        while(n!=0):\n",
    "            fact=fact*n\n",
    "            n=n-1\n",
    "        return fact\n",
    "\n",
    "p1=Demo1()\n",
    "print(p1.fact(5))"
   ]
  },
  {
   "cell_type": "code",
   "execution_count": 15,
   "metadata": {},
   "outputs": [
    {
     "name": "stdout",
     "output_type": "stream",
     "text": [
      "300\n"
     ]
    }
   ],
   "source": [
    "class Demo2:\n",
    "    def __init__(self,p1,p2):\n",
    "        self.p1=p1\n",
    "        self.p2=p2\n",
    "        \n",
    "    def add(self,p1,p2):\n",
    "        return p1+p2\n",
    "        \n",
    "        \n",
    "c1=Demo2(10,20)\n",
    "print(c1.add(100,200))\n"
   ]
  },
  {
   "cell_type": "code",
   "execution_count": 16,
   "metadata": {},
   "outputs": [
    {
     "name": "stdout",
     "output_type": "stream",
     "text": [
      "anil False\n",
      "akhil True\n"
     ]
    }
   ],
   "source": [
    "class person():\n",
    "    #constrution\n",
    "    def __init__(self,name):\n",
    "        self.name=name\n",
    "    def getname(self):\n",
    "        return self.name\n",
    "    def isEmployee(self):\n",
    "        return False\n",
    "    \n",
    "#Derived class\n",
    "class Employee(person):\n",
    "    def isEmployee(self):\n",
    "        return True\n",
    "    \n",
    "emp=person(\"anil\")\n",
    "print(emp.getname(),emp.isEmployee())\n",
    "\n",
    "emp1=Employee(\"akhil\")\n",
    "print(emp1.getname(),emp1.isEmployee())\n"
   ]
  },
  {
   "cell_type": "markdown",
   "metadata": {},
   "source": [
    "#  Python numpy"
   ]
  },
  {
   "cell_type": "code",
   "execution_count": 17,
   "metadata": {},
   "outputs": [
    {
     "name": "stdout",
     "output_type": "stream",
     "text": [
      "[1 2 3 4 5]\n"
     ]
    }
   ],
   "source": [
    "import numpy as np\n",
    "lst=[1,2,3,4,5]\n",
    "array=np.array(lst)\n",
    "print(array)"
   ]
  },
  {
   "cell_type": "code",
   "execution_count": 18,
   "metadata": {},
   "outputs": [
    {
     "data": {
      "text/plain": [
       "array([11, 12, 13, 14, 15])"
      ]
     },
     "execution_count": 18,
     "metadata": {},
     "output_type": "execute_result"
    }
   ],
   "source": [
    "lst=[1,2,3,4,5]\n",
    "array=np.array(lst)\n",
    "array+10"
   ]
  },
  {
   "cell_type": "code",
   "execution_count": 20,
   "metadata": {},
   "outputs": [
    {
     "name": "stdout",
     "output_type": "stream",
     "text": [
      "(5,)\n",
      "int32\n"
     ]
    }
   ],
   "source": [
    "lst=[1,2,3,4,5]\n",
    "array=np.array(lst)\n",
    "print(array.shape)\n",
    "print(array.dtype)"
   ]
  },
  {
   "cell_type": "code",
   "execution_count": 21,
   "metadata": {},
   "outputs": [
    {
     "name": "stdout",
     "output_type": "stream",
     "text": [
      "(2, 3)\n",
      "(2, 3)\n"
     ]
    }
   ],
   "source": [
    "a1=np.array([(1,2,3),(4,5,6)])\n",
    "print(a1.shape)\n",
    "a2=np.array([(4,5,6),(3,2,1)])\n",
    "print(a2.shape)\n"
   ]
  },
  {
   "cell_type": "code",
   "execution_count": 22,
   "metadata": {},
   "outputs": [
    {
     "name": "stdout",
     "output_type": "stream",
     "text": [
      "[[1 2 3]\n",
      " [4 5 6]]\n"
     ]
    },
    {
     "data": {
      "text/plain": [
       "array([[1, 2],\n",
       "       [3, 4],\n",
       "       [5, 6]])"
      ]
     },
     "execution_count": 22,
     "metadata": {},
     "output_type": "execute_result"
    }
   ],
   "source": [
    "a1=np.array([(1,2,3),(4,5,6)])\n",
    "print(a1)\n",
    "a1.reshape(3,2)"
   ]
  },
  {
   "cell_type": "code",
   "execution_count": 27,
   "metadata": {},
   "outputs": [
    {
     "data": {
      "text/plain": [
       "array([[1, 1, 1],\n",
       "       [1, 1, 1],\n",
       "       [1, 1, 1],\n",
       "       [1, 1, 1]], dtype=int64)"
      ]
     },
     "execution_count": 27,
     "metadata": {},
     "output_type": "execute_result"
    }
   ],
   "source": [
    "#np.ones(shape,dtype=float,order='c')\n",
    "np.ones((4,3),dtype=np.int64)\n"
   ]
  },
  {
   "cell_type": "code",
   "execution_count": 28,
   "metadata": {},
   "outputs": [
    {
     "name": "stdout",
     "output_type": "stream",
     "text": [
      "[[1 1 1 1]\n",
      " [1 1 1 1]\n",
      " [1 1 1 1]\n",
      " [1 1 1 1]]\n"
     ]
    }
   ],
   "source": [
    "a=np.matrix(np.ones((4,4),dtype=np.int64))\n",
    "print(a)"
   ]
  },
  {
   "cell_type": "code",
   "execution_count": 29,
   "metadata": {},
   "outputs": [
    {
     "name": "stdout",
     "output_type": "stream",
     "text": [
      "[[1 1 1 1]\n",
      " [1 1 1 1]\n",
      " [5 5 5 5]\n",
      " [1 1 1 1]]\n"
     ]
    }
   ],
   "source": [
    "a=np.matrix(np.ones((4,4),dtype=np.int64))\n",
    "np.asarray(a)[2]=5\n",
    "print(a)"
   ]
  },
  {
   "cell_type": "code",
   "execution_count": 30,
   "metadata": {},
   "outputs": [
    {
     "name": "stdout",
     "output_type": "stream",
     "text": [
      "[[ 1  1  1  1]\n",
      " [ 1  1  1  5]\n",
      " [ 1  1  1  1]\n",
      " [ 1  1  1 23]]\n"
     ]
    }
   ],
   "source": [
    "a=np.matrix(np.ones((4,4),dtype=np.int64))\n",
    "np.asarray(a)[1][3]=5\n",
    "np.asarray(a)[3][3]=23\n",
    "print(a)\n",
    "\n"
   ]
  },
  {
   "cell_type": "code",
   "execution_count": 26,
   "metadata": {},
   "outputs": [
    {
     "name": "stdout",
     "output_type": "stream",
     "text": [
      "[[1 2 3]\n",
      " [4 5 6]]\n"
     ]
    }
   ],
   "source": [
    "# Indexing and slicing of numpy \n",
    "a1=np.array([(1,2,3),(4,5,6)])\n",
    "print(a1)\n"
   ]
  },
  {
   "cell_type": "code",
   "execution_count": 25,
   "metadata": {},
   "outputs": [
    {
     "name": "stdout",
     "output_type": "stream",
     "text": [
      "first row: [1 2 3]\n"
     ]
    }
   ],
   "source": [
    "a1=np.array([(1,2,3),(4,5,6)])\n",
    "print(\"first row:\",a1[0])"
   ]
  },
  {
   "cell_type": "code",
   "execution_count": 31,
   "metadata": {},
   "outputs": [
    {
     "name": "stdout",
     "output_type": "stream",
     "text": [
      "[4.84897078 3.6873066  4.53869244 4.82373477 3.47218805 2.30226741\n",
      " 5.21742787 4.53870457 6.10904507 4.61063906]\n",
      "min value= 2.302267410288485\n",
      "max value= 6.109045071454405\n",
      "mean value= 4.414897661904975\n",
      "median value= 4.57467181473541\n"
     ]
    }
   ],
   "source": [
    "a1=np.random.normal(5,1,10)\n",
    "print(a1)\n",
    "print(\"min value=\",np.min(a1))\n",
    "print(\"max value=\",np.max(a1))\n",
    "print(\"mean value=\",np.mean(a1))\n",
    "print(\"median value=\",np.median(a1))\n"
   ]
  },
  {
   "cell_type": "code",
   "execution_count": 32,
   "metadata": {},
   "outputs": [
    {
     "data": {
      "text/plain": [
       "14"
      ]
     },
     "execution_count": 32,
     "metadata": {},
     "output_type": "execute_result"
    }
   ],
   "source": [
    "c1 = np.array([1,2])\n",
    "c2 = np.array([4,5])\n",
    "np.dot(c1,c2)\n",
    "              "
   ]
  },
  {
   "cell_type": "code",
   "execution_count": 39,
   "metadata": {},
   "outputs": [
    {
     "data": {
      "text/plain": [
       "array([[ 5,  8],\n",
       "       [13, 20]])"
      ]
     },
     "execution_count": 39,
     "metadata": {},
     "output_type": "execute_result"
    }
   ],
   "source": [
    "c1 = np.array([(1,2),(3,4)])\n",
    "c2 = np.array([(3,4),(1,2)])\n",
    "np.dot(c1,c2)"
   ]
  },
  {
   "cell_type": "markdown",
   "metadata": {},
   "source": [
    "## Panda Basics"
   ]
  },
  {
   "cell_type": "code",
   "execution_count": 1,
   "metadata": {},
   "outputs": [
    {
     "name": "stdout",
     "output_type": "stream",
     "text": [
      "     Name           EmailID  Mobile Number\n",
      "0    Anil    anil@gmail.com             99\n",
      "1   Akhil   akhil@gmail.com             44\n",
      "2  Dinesh  dinesh@gmail.com             55\n",
      "3  Harsha  harsha@gmail.com             22\n",
      "4    Ajay    ajay@gmail.com             33\n",
      "5  Kranth  kranth@gmail.com             41\n",
      "      Name           EmailID  Mobile Number\n",
      "01    Anil    anil@gmail.com             99\n",
      "02   Akhil   akhil@gmail.com             44\n",
      "03  Dinesh  dinesh@gmail.com             55\n",
      "04  Harsha  harsha@gmail.com             22\n",
      "05    Ajay    ajay@gmail.com             33\n",
      "06  Kranth  kranth@gmail.com             41\n"
     ]
    }
   ],
   "source": [
    "import pandas as pd\n",
    "dict={\"Name\":[\"Anil\",\"Akhil\",\"Dinesh\",\"Harsha\",\"Ajay\",\"Kranth\"],\n",
    "    \"EmailID\":[\"anil@gmail.com\",\"akhil@gmail.com\",\"dinesh@gmail.com\",\"harsha@gmail.com\",\"ajay@gmail.com\",\"kranth@gmail.com\"],\n",
    "    \"Mobile Number\":[99,44,55,22,33,41]}\n",
    "\n",
    "b=pd.DataFrame(dict)\n",
    "print(b)\n",
    "\n",
    "b.index=[\"01\",\"02\",\"03\",\"04\",\"05\",\"06\"]\n",
    "print(b)"
   ]
  },
  {
   "cell_type": "code",
   "execution_count": null,
   "metadata": {},
   "outputs": [],
   "source": []
  }
 ],
 "metadata": {
  "kernelspec": {
   "display_name": "Python 3",
   "language": "python",
   "name": "python3"
  },
  "language_info": {
   "codemirror_mode": {
    "name": "ipython",
    "version": 3
   },
   "file_extension": ".py",
   "mimetype": "text/x-python",
   "name": "python",
   "nbconvert_exporter": "python",
   "pygments_lexer": "ipython3",
   "version": "3.7.3"
  }
 },
 "nbformat": 4,
 "nbformat_minor": 2
}
