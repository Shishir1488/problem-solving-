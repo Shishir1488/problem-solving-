{
 "cells": [
  {
   "cell_type": "markdown",
   "metadata": {},
   "source": []
  },
  {
   "cell_type": "code",
   "execution_count": 2,
   "metadata": {},
   "outputs": [
    {
     "name": "stdout",
     "output_type": "stream",
     "text": [
      "90\n"
     ]
    }
   ],
   "source": [
    "def printEven(n):\n",
    "    cnt=0\n",
    "    sum=0\n",
    "    while(cnt!=n):\n",
    "        if(cnt%2==0):\n",
    "            sum=sum+cnt\n",
    "        cnt=cnt+1\n",
    "    return sum\n",
    "print(printEven(20))"
   ]
  },
  {
   "cell_type": "markdown",
   "metadata": {},
   "source": [
    "#  Example \n",
    "## factors list of a given number \n",
    "  \n",
    "       Text case \n",
    "         12---1 2 3 4 6"
   ]
  },
  {
   "cell_type": "code",
   "execution_count": 3,
   "metadata": {},
   "outputs": [
    {
     "name": "stdout",
     "output_type": "stream",
     "text": [
      "1 2 3 4 6 "
     ]
    }
   ],
   "source": [
    "def factorslist(n):\n",
    "    i=1\n",
    "    while(i!=n):\n",
    "        if(n%i==0):\n",
    "            print(i,end=\" \")\n",
    "        i=i+1\n",
    "    return\n",
    "\n",
    "factorslist(12)"
   ]
  },
  {
   "cell_type": "markdown",
   "metadata": {},
   "source": [
    "#  Example 2\n",
    "## List in python \n",
    "    \n",
    "     list can be written in python with square bracket and each item in the list separated by comma operator\n",
    "## Examples of list \n",
    "     list can be anythimg --- int,char,floa and string\n",
    "     list1=[1,2,3,4,5]\n",
    "     list2=[\"a\",\"b\",  "
   ]
  },
  {
   "cell_type": "code",
   "execution_count": 5,
   "metadata": {},
   "outputs": [
    {
     "name": "stdout",
     "output_type": "stream",
     "text": [
      "[1, 2, 3, 4, 5]\n",
      "1\n"
     ]
    }
   ],
   "source": [
    "list1=[1,2,3,4,5]\n",
    "# Enter list\n",
    "print(list1)\n",
    "# List[0]\n",
    "print(list1[0])"
   ]
  },
  {
   "cell_type": "markdown",
   "metadata": {},
   "source": [
    "## For loop\n",
    "  \n",
    "  \n",
    "## Syntax :-\n",
    " \n",
    "               for<variableName>in<seq>:\n",
    "                 <statements>\n",
    "\n"
   ]
  },
  {
   "cell_type": "code",
   "execution_count": 6,
   "metadata": {},
   "outputs": [],
   "source": [
    "list2= [\"Akhil\",\"Arvind\",\"Anil\",\"Akash\"] "
   ]
  },
  {
   "cell_type": "code",
   "execution_count": 7,
   "metadata": {},
   "outputs": [
    {
     "data": {
      "text/plain": [
       "['Akhil', 'Aravind', 'Anil', 'Akash']"
      ]
     },
     "execution_count": 7,
     "metadata": {},
     "output_type": "execute_result"
    }
   ],
   "source": [
    "[\"Akhil\",\"Aravind\",\"Anil\",\"Akash\"]"
   ]
  },
  {
   "cell_type": "markdown",
   "metadata": {},
   "source": [
    "#  Example 3\n",
    "\n",
    "## List example with particular index "
   ]
  },
  {
   "cell_type": "code",
   "execution_count": 8,
   "metadata": {},
   "outputs": [
    {
     "data": {
      "text/plain": [
       "[1, 2, 3, 4, 5, 6, 7]"
      ]
     },
     "execution_count": 8,
     "metadata": {},
     "output_type": "execute_result"
    }
   ],
   "source": [
    "lst1=[1,2,3,4,5,6,7]\n",
    "lst1"
   ]
  },
  {
   "cell_type": "code",
   "execution_count": 10,
   "metadata": {},
   "outputs": [
    {
     "name": "stdout",
     "output_type": "stream",
     "text": [
      "1 2 3 4 5 6 7 \n",
      "5\n",
      "[4, 5, 6, 7]\n",
      "[1, 2, 3]\n",
      "[1, 2, 3]\n",
      "[1, 2, 3, 4, 5, 6, 7]\n"
     ]
    }
   ],
   "source": [
    "lst1=[1,2,3,4,5,6,7]\n",
    "for x in lst1:\n",
    "    print(x,end=\" \")\n",
    "    \n",
    "    \n",
    "print()\n",
    "print(lst1[4])\n",
    "print(lst1[3:7])\n",
    "print(lst1[0:3])\n",
    "print(lst1[:3])\n",
    "print(lst1[:7])"
   ]
  },
  {
   "cell_type": "code",
   "execution_count": 17,
   "metadata": {},
   "outputs": [
    {
     "name": "stdout",
     "output_type": "stream",
     "text": [
      "1 2 3 4 5 6 7 8 9 10 \n",
      "[2, 3, 4, 5, 6, 7, 8, 9]\n",
      "[3, 4, 5, 6, 7, 8]\n",
      "[1, 3, 5, 7, 9]\n",
      "[1, 4, 7, 10]\n",
      "[1, 5, 9]\n"
     ]
    }
   ],
   "source": [
    "lst1=[1,2,3,4,5,6,7,8,9,10]\n",
    "for x in lst1 :\n",
    "    print(x,end=\" \")\n",
    "    \n",
    "    \n",
    "print()\n",
    "print(lst1[1:-1])\n",
    "print(lst1[2:-2])\n",
    "print(lst1[::2])\n",
    "print(lst1[::3])\n",
    "print(lst1[::4])"
   ]
  },
  {
   "cell_type": "code",
   "execution_count": 19,
   "metadata": {},
   "outputs": [
    {
     "name": "stdout",
     "output_type": "stream",
     "text": [
      "['anil', 'adarsh', 'akhil', '1']\n",
      "['anil', 'adarsh', 15, '1']\n",
      "['anil', 'adarsh', 15]\n"
     ]
    }
   ],
   "source": [
    "lst1=[\"anil\",\"adarsh\",\"akhil\",\"1\"]\n",
    "print(lst1)\n",
    "\n",
    "lst1[2]=15\n",
    "print(lst1)\n",
    "\n",
    "del lst1[3]\n",
    "print(lst1)"
   ]
  },
  {
   "cell_type": "markdown",
   "metadata": {},
   "source": [
    "## List Methods :\n",
    "### append(obj)  \n",
    "\n",
    "The method appends a passed object in to aexisting list \n",
    "\n",
    "#### count(obj) \n",
    "\n",
    " The method returns the "
   ]
  },
  {
   "cell_type": "code",
   "execution_count": 20,
   "metadata": {},
   "outputs": [
    {
     "name": "stdout",
     "output_type": "stream",
     "text": [
      "[1, 2, 3, 4, 5]\n",
      "[1, 2, 4, 5]\n",
      "4\n",
      "[1, 2, 4, 5, 15, 150, 1, 3]\n",
      "2\n",
      "1\n"
     ]
    }
   ],
   "source": [
    " list1=[1,2,3,4,5];\n",
    "print(list1);\n",
    "del list1[2];\n",
    "print(list1);\n",
    "#list1[4]=15;\n",
    "print(len(list1));\n",
    "list1.append(15);\n",
    "list1.append(150);\n",
    "list1.append(1);\n",
    "list1.append(3);\n",
    "print(list1);\n",
    "print(list1.count(1));\n",
    "print(list1.count(3));\n"
   ]
  },
  {
   "cell_type": "markdown",
   "metadata": {},
   "source": [
    "#  Index (obj)\n",
    "Its retrurns the index of passed object first occurance from the left side \n",
    "    \n",
    "    \n",
    "## Insert (index,  "
   ]
  },
  {
   "cell_type": "code",
   "execution_count": 22,
   "metadata": {},
   "outputs": [
    {
     "name": "stdout",
     "output_type": "stream",
     "text": [
      "['gitam', 'python', 'raptor', '1', '5', 'python']\n"
     ]
    }
   ],
   "source": [
    "lst=[\"gitam\",\"python\",\"raptor\",\"1\",\"5\",\"python\"]\n",
    "print(lst)\n"
   ]
  },
  {
   "cell_type": "code",
   "execution_count": 24,
   "metadata": {},
   "outputs": [
    {
     "data": {
      "text/plain": [
       "1"
      ]
     },
     "execution_count": 24,
     "metadata": {},
     "output_type": "execute_result"
    }
   ],
   "source": [
    "lst.index(\"python\")"
   ]
  },
  {
   "cell_type": "code",
   "execution_count": 40,
   "metadata": {},
   "outputs": [
    {
     "name": "stdout",
     "output_type": "stream",
     "text": [
      "['gitam', 'python', 'raptor', 1, 5, 2019, 'python']\n"
     ]
    }
   ],
   "source": [
    "lst=[\"gitam\",\"python\",\"raptor\",1,5,\"python\"]\n",
    "lst.insert(5,2019)\n",
    "print(lst)"
   ]
  },
  {
   "cell_type": "markdown",
   "metadata": {},
   "source": [
    "#  Remove (obj)\n",
    "\n",
    "      The removes method the passed objectfrom the first occurance from the "
   ]
  },
  {
   "cell_type": "code",
   "execution_count": 50,
   "metadata": {},
   "outputs": [
    {
     "name": "stdout",
     "output_type": "stream",
     "text": [
      "['gitam', 'python', 'raptor', 1, 5, 'python', 'python']\n",
      "['gitam', 'raptor', 1, 5, 'python', 'python']\n"
     ]
    }
   ],
   "source": [
    "lst1=[\"gitam\",\"python\",\"raptor\",1,5,\"python\",\"python\"]\n",
    "print(lst1)\n",
    "lst1.remove(\"python\")\n",
    "print(lst1)"
   ]
  },
  {
   "cell_type": "code",
   "execution_count": 45,
   "metadata": {},
   "outputs": [
    {
     "name": "stdout",
     "output_type": "stream",
     "text": [
      "['gitam', 'raptor', 1, 5, 'python', 'python']\n"
     ]
    }
   ],
   "source": [
    "lst1.reverse()\n",
    "print(lst1)"
   ]
  },
  {
   "cell_type": "markdown",
   "metadata": {},
   "source": [
    "#  Data structures :-\n",
    "** How to store the data        list -- Data structures \n",
    "** How to search                Arrays -- Data structures \n",
    "** How to sort   \n",
    "\n",
    "#### searching the data\n",
    "       linear search\n",
    "       \n",
    "       binary search \n",
    "#### sort the data\n",
    "#### store the data "
   ]
  },
  {
   "cell_type": "code",
   "execution_count": 54,
   "metadata": {},
   "outputs": [
    {
     "name": "stdout",
     "output_type": "stream",
     "text": [
      "target item is not found\n"
     ]
    }
   ],
   "source": [
    "def linearsearch(a,tarItem):\n",
    "    flag=0\n",
    "    for i in range(len(a)):\n",
    "        if a[i]==tarItem:\n",
    "            flag=1\n",
    "            break\n",
    "    if(flag!=0):\n",
    "        print(\"target item is found\")\n",
    "    else:\n",
    "        print(\"target item is not found\")\n",
    "            \n",
    "        \n",
    "a=[16,2,12,6,9,7,1]\n",
    "linearsearch(a,61)"
   ]
  },
  {
   "cell_type": "code",
   "execution_count": 1,
   "metadata": {},
   "outputs": [
    {
     "ename": "SyntaxError",
     "evalue": "invalid syntax (<ipython-input-1-c4826238d71c>, line 4)",
     "output_type": "error",
     "traceback": [
      "\u001b[1;36m  File \u001b[1;32m\"<ipython-input-1-c4826238d71c>\"\u001b[1;36m, line \u001b[1;32m4\u001b[0m\n\u001b[1;33m    if a[i]=tarItem:\u001b[0m\n\u001b[1;37m           ^\u001b[0m\n\u001b[1;31mSyntaxError\u001b[0m\u001b[1;31m:\u001b[0m invalid syntax\n"
     ]
    }
   ],
   "source": [
    "def linearsearchDuplicate(a,tarItem):\n",
    "    flag=0\n",
    "    for i in range(len(a)):\n",
    "        if a[i]=tarItem:\n",
    "            flag=1\n",
    "            break\n",
    "    if(flag!=0):\n",
    "        print(\"tarItem is found\")\n",
    "    else:\n",
    "        print(\"tarItem is not found\")"
   ]
  },
  {
   "cell_type": "code",
   "execution_count": 5,
   "metadata": {},
   "outputs": [
    {
     "name": "stdout",
     "output_type": "stream",
     "text": [
      "1 4 7 "
     ]
    }
   ],
   "source": [
    "def linearExample(a,tarItem):\n",
    "    for i in range(len(a)):\n",
    "        if a[i]==tarItem:\n",
    "            print(i,end=\" \")\n",
    "        \n",
    "a=[1,5,9,6,5,15,12,5]\n",
    "linearExample(a,5)"
   ]
  },
  {
   "cell_type": "code",
   "execution_count": 7,
   "metadata": {},
   "outputs": [
    {
     "name": "stdout",
     "output_type": "stream",
     "text": [
      "! !  ! ! ! !  ! ! ! ! ! ! !  "
     ]
    }
   ],
   "source": [
    "def linearExample2(a,tarItem):\n",
    "    for i in range(len(a)):\n",
    "         if a[i]==tarItem:\n",
    "                j=0\n",
    "                while j!=i+1:\n",
    "                    print(\"!\",end=\" \")\n",
    "                    j=j+1\n",
    "                print(end=\" \")\n",
    "a=[1,5,9,5,15,12,5]\n",
    "linearExample2(a,5)"
   ]
  },
  {
   "cell_type": "markdown",
   "metadata": {},
   "source": [
    "### Linear search Example3\n",
    "### input:list \n",
    "### As per the given \n",
    "\n",
    "## test cases:-\n",
    "      [15,12,2,9,18,36]\n",
    "      A list item should be perfect multiple of 3 and 5\n",
    "      sum of all the list items which is perfect multiple of 3 and 5"
   ]
  },
  {
   "cell_type": "code",
   "execution_count": 8,
   "metadata": {},
   "outputs": [
    {
     "ename": "SyntaxError",
     "evalue": "invalid syntax (<ipython-input-8-c6f234401c10>, line 4)",
     "output_type": "error",
     "traceback": [
      "\u001b[1;36m  File \u001b[1;32m\"<ipython-input-8-c6f234401c10>\"\u001b[1;36m, line \u001b[1;32m4\u001b[0m\n\u001b[1;33m    if a[i]%3==0 and\u001b[0m\n\u001b[1;37m                     ^\u001b[0m\n\u001b[1;31mSyntaxError\u001b[0m\u001b[1;31m:\u001b[0m invalid syntax\n"
     ]
    }
   ],
   "source": [
    "def linearExample3(a):\n",
    "    sum=0\n",
    "    for i in range(len(a)):\n",
    "        if a[i]%3==0 and "
   ]
  },
  {
   "cell_type": "code",
   "execution_count": 13,
   "metadata": {},
   "outputs": [
    {
     "name": "stdout",
     "output_type": "stream",
     "text": [
      "1 3 8 15 5 "
     ]
    }
   ],
   "source": [
    "def linearformattedoutput(a):\n",
    "    for i in range(len(a)):\n",
    "        if i==0 or i==(len(a)-1):\n",
    "            print(a[i],end=\" \")\n",
    "        else:\n",
    "            print(a[i-1]*a[i+1],end=\" \")\n",
    "    \n",
    "    \n",
    "    \n",
    "    \n",
    "    \n",
    "a=[1,2,3,4,5]\n",
    "linearformattedoutput(a)"
   ]
  },
  {
   "cell_type": "code",
   "execution_count": 12,
   "metadata": {},
   "outputs": [
    {
     "name": "stdout",
     "output_type": "stream",
     "text": [
      "1 19 22 "
     ]
    }
   ],
   "source": [
    "def linearformattedoutput(a):\n",
    "    for i in range (len(a)):\n",
    "        if i==0 or (i==len(a)-1):\n",
    "            print(a[i],end=\" \")\n",
    "        elif a[i-1]%2==0 and a[i+1]%2==0:\n",
    "             print(a[i],end=\" \")\n",
    "                \n",
    "a=[1,5,9,4,16,19,22]\n",
    "linearformattedoutput(a)"
   ]
  },
  {
   "cell_type": "code",
   "execution_count": 14,
   "metadata": {},
   "outputs": [
    {
     "name": "stdout",
     "output_type": "stream",
     "text": [
      "eneter a number14569\n",
      "[1, 4, 5, 6, 9]\n"
     ]
    }
   ],
   "source": [
    "def numbertolostconversion(n):\n",
    "    lst=[]\n",
    "    while n!=0:\n",
    "        r=n%10\n",
    "        lst.append(r)\n",
    "        n=n//10\n",
    "    lst.reverse()\n",
    "    print(lst)\n",
    "    \n",
    "    \n",
    "n=int(input(\"eneter a number\"))\n",
    "numbertolostconversion(n)"
   ]
  },
  {
   "cell_type": "code",
   "execution_count": null,
   "metadata": {},
   "outputs": [],
   "source": []
  }
 ],
 "metadata": {
  "kernelspec": {
   "display_name": "Python 3",
   "language": "python",
   "name": "python3"
  },
  "language_info": {
   "codemirror_mode": {
    "name": "ipython",
    "version": 3
   },
   "file_extension": ".py",
   "mimetype": "text/x-python",
   "name": "python",
   "nbconvert_exporter": "python",
   "pygments_lexer": "ipython3",
   "version": "3.7.3"
  }
 },
 "nbformat": 4,
 "nbformat_minor": 2
}
